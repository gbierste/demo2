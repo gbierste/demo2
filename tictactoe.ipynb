{
 "cells": [
  {
   "cell_type": "code",
   "execution_count": 1,
   "metadata": {},
   "outputs": [],
   "source": [
    "#display board\n",
    "def display_board(board):\n",
    "    print('  l   l')\n",
    "    print('' + board[7] + ' l ' + board[8] + ' l ' +  board[9])\n",
    "    print('  l   ' + 'l ')\n",
    "    print('' + board[4] + ' l ' + board[5] + ' l ' +  board[6])\n",
    "    print('  l   ' + 'l ')\n",
    "    print('' + board[1] + ' l ' + board[2] + ' l ' +  board[3])"
   ]
  },
  {
   "cell_type": "code",
   "execution_count": 2,
   "metadata": {},
   "outputs": [],
   "source": [
    "test_board = [\"#\", 'X', 'O', 'X', 'O', 'X', 'O', 'X', 'O', 'O']"
   ]
  },
  {
   "cell_type": "code",
   "execution_count": 3,
   "metadata": {},
   "outputs": [
    {
     "name": "stdout",
     "output_type": "stream",
     "text": [
      "  l   l\n",
      "X l O l O\n",
      "  l   l \n",
      "O l X l O\n",
      "  l   l \n",
      "X l O l X\n"
     ]
    }
   ],
   "source": [
    "display_board(test_board)"
   ]
  },
  {
   "cell_type": "code",
   "execution_count": 2,
   "metadata": {},
   "outputs": [],
   "source": [
    "def player_input():\n",
    "    marker = ''\n",
    "    \n",
    "    while not (marker == 'X' or marker == 'O'):\n",
    "        marker = input('Player 1: Do you want to be X or O? ').upper()\n",
    "\n",
    "    if marker == 'X':\n",
    "        return ('X', 'O')\n",
    "    else:\n",
    "        return ('O', 'X')"
   ]
  },
  {
   "cell_type": "code",
   "execution_count": 15,
   "metadata": {},
   "outputs": [
    {
     "name": "stdout",
     "output_type": "stream",
     "text": [
      "Player 1: Do you want to be X or O? X\n"
     ]
    },
    {
     "data": {
      "text/plain": [
       "('X', 'O')"
      ]
     },
     "execution_count": 15,
     "metadata": {},
     "output_type": "execute_result"
    }
   ],
   "source": [
    "player_input()"
   ]
  },
  {
   "cell_type": "code",
   "execution_count": 3,
   "metadata": {},
   "outputs": [],
   "source": [
    "#places marker on board1\n",
    "1\n",
    "def place_marker(board, marker, position):\n",
    "    board[position] = marker"
   ]
  },
  {
   "cell_type": "code",
   "execution_count": 7,
   "metadata": {},
   "outputs": [
    {
     "name": "stdout",
     "output_type": "stream",
     "text": [
      "  l   l\n",
      "X l O l O\n",
      "  l   l \n",
      "O l X l $\n",
      "  l   l \n",
      "X l O l X\n"
     ]
    }
   ],
   "source": [
    "place_marker(test_board, '$', 6)\n",
    "display_board(test_board)"
   ]
  },
  {
   "cell_type": "raw",
   "metadata": {},
   "source": [
    "print('Player {} starts'.format(first_player))  "
   ]
  },
  {
   "cell_type": "code",
   "execution_count": 4,
   "metadata": {},
   "outputs": [],
   "source": [
    "#did they win\n",
    "def win_check(board, mark):\n",
    "\n",
    "    return ((board[1] == mark and board[2] == mark and board[3] == mark) or\n",
    "    (board[4] == mark and board[5] == mark and board[6] == mark) or\n",
    "    (board[7] == mark and board[8] == mark and board[9] == mark) or\n",
    "    (board[1] == mark and board[4] == mark and board[7] == mark) or\n",
    "    (board[1] == mark and board[4] == mark and board[7] == mark) or\n",
    "    (board[8] == mark and board[5] == mark and board[2] == mark) or\n",
    "    (board[9] == mark and board[6] == mark and board[3] == mark) or\n",
    "    (board[1] == mark and board[5] == mark and board[9] == mark))"
   ]
  },
  {
   "cell_type": "code",
   "execution_count": 9,
   "metadata": {},
   "outputs": [
    {
     "data": {
      "text/plain": [
       "False"
      ]
     },
     "execution_count": 9,
     "metadata": {},
     "output_type": "execute_result"
    }
   ],
   "source": [
    "win_check(test_board, 'X')"
   ]
  },
  {
   "cell_type": "code",
   "execution_count": 5,
   "metadata": {},
   "outputs": [],
   "source": [
    "import random\n",
    "\n",
    "def choose_first():\n",
    "    if random.randint(0, 1) == 0:\n",
    "        return 'Player 2'\n",
    "    else:\n",
    "        return 'Player 1'"
   ]
  },
  {
   "cell_type": "code",
   "execution_count": 11,
   "metadata": {},
   "outputs": [
    {
     "data": {
      "text/plain": [
       "'Player 2'"
      ]
     },
     "execution_count": 11,
     "metadata": {},
     "output_type": "execute_result"
    }
   ],
   "source": [
    "choose_first()"
   ]
  },
  {
   "cell_type": "code",
   "execution_count": 6,
   "metadata": {},
   "outputs": [],
   "source": [
    "#is the board full\n",
    "def full_board_check(board):\n",
    "    for i in range(1,10):\n",
    "        if space_check(board, i):\n",
    "            return False\n",
    "    return True"
   ]
  },
  {
   "cell_type": "code",
   "execution_count": 13,
   "metadata": {},
   "outputs": [
    {
     "data": {
      "text/plain": [
       "True"
      ]
     },
     "execution_count": 13,
     "metadata": {},
     "output_type": "execute_result"
    }
   ],
   "source": [
    "full_board_check(test_board)"
   ]
  },
  {
   "cell_type": "code",
   "execution_count": 7,
   "metadata": {},
   "outputs": [],
   "source": [
    "#is the space available\n",
    "def space_check(board, position):\n",
    "    \n",
    "    return board[position] == ' '"
   ]
  },
  {
   "cell_type": "code",
   "execution_count": 8,
   "metadata": {},
   "outputs": [
    {
     "ename": "NameError",
     "evalue": "name 'test_board' is not defined",
     "output_type": "error",
     "traceback": [
      "\u001b[1;31m---------------------------------------------------------------------------\u001b[0m",
      "\u001b[1;31mNameError\u001b[0m                                 Traceback (most recent call last)",
      "\u001b[1;32m<ipython-input-8-09b51b2988b9>\u001b[0m in \u001b[0;36m<module>\u001b[1;34m\u001b[0m\n\u001b[1;32m----> 1\u001b[1;33m \u001b[0mspace_check\u001b[0m\u001b[1;33m(\u001b[0m\u001b[0mtest_board\u001b[0m\u001b[1;33m,\u001b[0m \u001b[1;36m9\u001b[0m\u001b[1;33m)\u001b[0m\u001b[1;33m\u001b[0m\u001b[1;33m\u001b[0m\u001b[0m\n\u001b[0m",
      "\u001b[1;31mNameError\u001b[0m: name 'test_board' is not defined"
     ]
    }
   ],
   "source": [
    "space_check(test_board, 9)"
   ]
  },
  {
   "cell_type": "code",
   "execution_count": 8,
   "metadata": {},
   "outputs": [
    {
     "ename": "NameError",
     "evalue": "name 'test_board' is not defined",
     "output_type": "error",
     "traceback": [
      "\u001b[1;31m---------------------------------------------------------------------------\u001b[0m",
      "\u001b[1;31mNameError\u001b[0m                                 Traceback (most recent call last)",
      "\u001b[1;32m<ipython-input-8-609d6aa00b66>\u001b[0m in \u001b[0;36m<module>\u001b[1;34m\u001b[0m\n\u001b[1;32m----> 1\u001b[1;33m \u001b[0mdisplay_board\u001b[0m\u001b[1;33m(\u001b[0m\u001b[0mtest_board\u001b[0m\u001b[1;33m)\u001b[0m\u001b[1;33m\u001b[0m\u001b[1;33m\u001b[0m\u001b[0m\n\u001b[0m",
      "\u001b[1;31mNameError\u001b[0m: name 'test_board' is not defined"
     ]
    }
   ],
   "source": [
    "display_board(test_board)"
   ]
  },
  {
   "cell_type": "code",
   "execution_count": 8,
   "metadata": {},
   "outputs": [],
   "source": [
    "def player_choice(board):\n",
    "    position = 0\n",
    "    \n",
    "    while position not in [1,2,3,4,5,6,7,8,9] or not space_check(board, position):\n",
    "        position = int(input('Choose your next position: (1-9) '))\n",
    "        \n",
    "    return position"
   ]
  },
  {
   "cell_type": "code",
   "execution_count": 9,
   "metadata": {},
   "outputs": [],
   "source": [
    "#do you want to play\n",
    "def replay():\n",
    "    \n",
    "    return input('Do you want to play again? Enter Yes or No: ').lower().startswith('y')"
   ]
  },
  {
   "cell_type": "code",
   "execution_count": null,
   "metadata": {},
   "outputs": [
    {
     "name": "stdout",
     "output_type": "stream",
     "text": [
      "Choose your next position: (1-9) 1\n",
      "Choose your next position: (1-9) 9\n",
      "Choose your next position: (1-9) 8\n",
      "Choose your next position: (1-9) 7\n",
      "Choose your next position: (1-9) 6\n",
      "Choose your next position: (1-9) 5\n"
     ]
    }
   ],
   "source": [
    "player_choice(game_board)"
   ]
  },
  {
   "cell_type": "code",
   "execution_count": 11,
   "metadata": {},
   "outputs": [
    {
     "name": "stdout",
     "output_type": "stream",
     "text": [
      "Welcome to Tic Tac Toe!\n",
      "The below board displays the positions available\n",
      "  l   l\n",
      "7 l 8 l 9\n",
      "  l   l \n",
      "4 l 5 l 6\n",
      "  l   l \n",
      "1 l 2 l 3\n",
      "Player 1: Do you want to be X or O? X\n",
      "Player 1 will go first\n",
      "Are you ready to play the game? Yes or NoY\n",
      "  l   l\n",
      "  l   l  \n",
      "  l   l \n",
      "  l   l  \n",
      "  l   l \n",
      "  l   l  \n",
      "Choose your next position: (1-9) 3\n",
      "The below board displays the positions available\n",
      "  l   l\n",
      "7 l 8 l 9\n",
      "  l   l \n",
      "4 l 5 l 6\n",
      "  l   l \n",
      "1 l 2 l 3\n",
      "  l   l\n",
      "  l   l  \n",
      "  l   l \n",
      "  l   l  \n",
      "  l   l \n",
      "  l   l X\n",
      "Choose your next position: (1-9) 2\n",
      "The below board displays the positions available\n",
      "  l   l\n",
      "7 l 8 l 9\n",
      "  l   l \n",
      "4 l 5 l 6\n",
      "  l   l \n",
      "1 l 2 l 3\n",
      "  l   l\n",
      "  l   l  \n",
      "  l   l \n",
      "  l   l  \n",
      "  l   l \n",
      "  l O l X\n",
      "Choose your next position: (1-9) 1\n",
      "The below board displays the positions available\n",
      "  l   l\n",
      "7 l 8 l 9\n",
      "  l   l \n",
      "4 l 5 l 6\n",
      "  l   l \n",
      "1 l 2 l 3\n",
      "  l   l\n",
      "  l   l  \n",
      "  l   l \n",
      "  l   l  \n",
      "  l   l \n",
      "X l O l X\n",
      "Choose your next position: (1-9) 3\n",
      "Choose your next position: (1-9) 4\n",
      "The below board displays the positions available\n",
      "  l   l\n",
      "7 l 8 l 9\n",
      "  l   l \n",
      "4 l 5 l 6\n",
      "  l   l \n",
      "1 l 2 l 3\n",
      "  l   l\n",
      "  l   l  \n",
      "  l   l \n",
      "O l   l  \n",
      "  l   l \n",
      "X l O l X\n",
      "Choose your next position: (1-9) 6\n",
      "The below board displays the positions available\n",
      "  l   l\n",
      "7 l 8 l 9\n",
      "  l   l \n",
      "4 l 5 l 6\n",
      "  l   l \n",
      "1 l 2 l 3\n",
      "  l   l\n",
      "  l   l  \n",
      "  l   l \n",
      "O l   l X\n",
      "  l   l \n",
      "X l O l X\n",
      "Choose your next position: (1-9) 8\n",
      "The below board displays the positions available\n",
      "  l   l\n",
      "7 l 8 l 9\n",
      "  l   l \n",
      "4 l 5 l 6\n",
      "  l   l \n",
      "1 l 2 l 3\n",
      "  l   l\n",
      "  l O l  \n",
      "  l   l \n",
      "O l   l X\n",
      "  l   l \n",
      "X l O l X\n",
      "Choose your next position: (1-9) 9\n",
      "  l   l\n",
      "  l O l X\n",
      "  l   l \n",
      "O l   l X\n",
      "  l   l \n",
      "X l O l X\n",
      "congradulations you won!\n",
      "Do you want to play again? Enter Yes or No: N\n"
     ]
    }
   ],
   "source": [
    "from IPython.display import clear_output\n",
    "\n",
    "print('Welcome to Tic Tac Toe!')\n",
    "\n",
    "print('The below board displays the positions available')\n",
    "\n",
    "\n",
    "while True:\n",
    "    \n",
    "    game_board = [\" \"] * 10\n",
    "    \n",
    "    position_board = [\"#\", '1', '2', '3', '4', '5', '6', '7', '8', '9']\n",
    "    \n",
    "    display_board(position_board)\n",
    "    \n",
    "    player1_marker, player2_marker = player_input()\n",
    "    \n",
    "    turn = choose_first() # finds out who is playing first\n",
    "    \n",
    "    print(turn + ' will go first')\n",
    "    \n",
    "    play_game = input('Are you ready to play the game? Yes or No')\n",
    "    \n",
    "    if play_game.lower()[0] == 'y':\n",
    "        game_on = True\n",
    "    else:\n",
    "        game_on = False\n",
    "\n",
    "    while game_on:\n",
    "        if turn == 'Player 1':\n",
    "            display_board(game_board)\n",
    "            position = player_choice(game_board)\n",
    "            place_marker(game_board, player1_marker, position)\n",
    "            \n",
    "            if win_check(game_board, player1_marker):\n",
    "                display_board(game_board)\n",
    "                print('congradulations you won!')\n",
    "                game_on = False\n",
    "            else:\n",
    "                if full_board_check(game_board):\n",
    "                    display_board(game_board)\n",
    "                    print('Tie game')\n",
    "                    break\n",
    "                else:\n",
    "                    clear_output\n",
    "                    print('The below board displays the positions available')\n",
    "                    display_board(position_board)\n",
    "                    turn = 'Player 2'\n",
    "        else:\n",
    "            display_board(game_board)\n",
    "            position = player_choice(game_board)\n",
    "            place_marker(game_board, player2_marker, position)\n",
    "            \n",
    "            if win_check(game_board, player2_marker):\n",
    "                display_board(game_board)\n",
    "                print('congradulations you won!')\n",
    "                game_on = False\n",
    "            else:\n",
    "                if full_board_check(game_board):\n",
    "                    display_board(game_board)\n",
    "                    print('Tie game')\n",
    "                    break\n",
    "                else:\n",
    "                    clear_output\n",
    "                    print('The below board displays the positions available')\n",
    "                    display_board(position_board)\n",
    "                    turn = 'Player 1'\n",
    "    if not replay():\n",
    "        break"
   ]
  },
  {
   "cell_type": "code",
   "execution_count": null,
   "metadata": {},
   "outputs": [],
   "source": [
    "#while True:\n",
    "    # Set the game up here\n",
    "    #pass\n",
    "\n",
    "    #while game_on:\n",
    "        #Player 1 Turn\n",
    "        \n",
    "        \n",
    "        # Player2's turn.\n",
    "            \n",
    "            #pass\n",
    "\n",
    "    #if not replay():\n",
    "        #break"
   ]
  },
  {
   "cell_type": "code",
   "execution_count": 17,
   "metadata": {},
   "outputs": [
    {
     "name": "stdout",
     "output_type": "stream",
     "text": [
      "Player 1: Do you want to be X or O? X\n"
     ]
    },
    {
     "data": {
      "text/plain": [
       "('X', 'O')"
      ]
     },
     "execution_count": 17,
     "metadata": {},
     "output_type": "execute_result"
    }
   ],
   "source": [
    "player_input()"
   ]
  },
  {
   "cell_type": "code",
   "execution_count": 39,
   "metadata": {},
   "outputs": [],
   "source": [
    "def function():\n",
    "    d = dict()\n",
    "    d['tues'] = 2\n",
    "    return d"
   ]
  },
  {
   "cell_type": "code",
   "execution_count": 16,
   "metadata": {},
   "outputs": [
    {
     "data": {
      "text/plain": [
       "'Player 1'"
      ]
     },
     "execution_count": 16,
     "metadata": {},
     "output_type": "execute_result"
    }
   ],
   "source": [
    "turn"
   ]
  },
  {
   "cell_type": "raw",
   "metadata": {},
   "source": [
    "print(players_markers)"
   ]
  },
  {
   "cell_type": "raw",
   "metadata": {},
   "source": [
    "turn()"
   ]
  },
  {
   "cell_type": "markdown",
   "metadata": {},
   "source": [
    "player_output"
   ]
  },
  {
   "cell_type": "code",
   "execution_count": null,
   "metadata": {},
   "outputs": [],
   "source": [
    "turn"
   ]
  },
  {
   "cell_type": "code",
   "execution_count": 85,
   "metadata": {},
   "outputs": [
    {
     "name": "stdout",
     "output_type": "stream",
     "text": [
      "Player 1: Do you want to be X or O? X\n"
     ]
    }
   ],
   "source": [
    "player1_marker, player2_marker = player_input()"
   ]
  },
  {
   "cell_type": "code",
   "execution_count": 86,
   "metadata": {},
   "outputs": [
    {
     "data": {
      "text/plain": [
       "'X'"
      ]
     },
     "execution_count": 86,
     "metadata": {},
     "output_type": "execute_result"
    }
   ],
   "source": [
    "player1_marker"
   ]
  },
  {
   "cell_type": "code",
   "execution_count": 87,
   "metadata": {},
   "outputs": [
    {
     "data": {
      "text/plain": [
       "'O'"
      ]
     },
     "execution_count": 87,
     "metadata": {},
     "output_type": "execute_result"
    }
   ],
   "source": [
    "player2_marker"
   ]
  },
  {
   "cell_type": "code",
   "execution_count": 94,
   "metadata": {},
   "outputs": [
    {
     "data": {
      "text/plain": [
       "'Player 1'"
      ]
     },
     "execution_count": 94,
     "metadata": {},
     "output_type": "execute_result"
    }
   ],
   "source": [
    "choose_first()"
   ]
  },
  {
   "cell_type": "code",
   "execution_count": 14,
   "metadata": {},
   "outputs": [
    {
     "data": {
      "text/plain": [
       "'X'"
      ]
     },
     "execution_count": 14,
     "metadata": {},
     "output_type": "execute_result"
    }
   ],
   "source": [
    "player2_marker"
   ]
  },
  {
   "cell_type": "code",
   "execution_count": null,
   "metadata": {},
   "outputs": [],
   "source": [
    " marker = ''\n",
    "    \n",
    "    while not (marker == 'X' or marker == 'O'):\n",
    "        marker = input('Player 1: Do you want to be X or O? ').upper()\n",
    "\n",
    "    if marker == 'X':\n",
    "        return ('X', 'O')\n",
    "    else:\n",
    "        return ('O', 'X')"
   ]
  }
 ],
 "metadata": {
  "kernelspec": {
   "display_name": "Python 3",
   "language": "python",
   "name": "python3"
  },
  "language_info": {
   "codemirror_mode": {
    "name": "ipython",
    "version": 3
   },
   "file_extension": ".py",
   "mimetype": "text/x-python",
   "name": "python",
   "nbconvert_exporter": "python",
   "pygments_lexer": "ipython3",
   "version": "3.8.3"
  }
 },
 "nbformat": 4,
 "nbformat_minor": 4
}
